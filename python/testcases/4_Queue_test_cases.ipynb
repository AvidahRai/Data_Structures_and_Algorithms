{
 "cells": [
  {
   "cell_type": "markdown",
   "metadata": {},
   "source": [
    "## Queue Test cases\n",
    "\n",
    "Generated using ChatGPT\n",
    "\n",
    "Overview\n",
    "- Intialize\n",
    "- Enqueue\n",
    "- Dequeue\n",
    "- Contains\n",
    "- Performance Test: Large Queue - 100 million nodes"
   ]
  },
  {
   "cell_type": "markdown",
   "metadata": {},
   "source": [
    "### Initialise"
   ]
  },
  {
   "cell_type": "code",
   "execution_count": 1,
   "metadata": {},
   "outputs": [],
   "source": [
    "import sys\n",
    "import os\n",
    "import unittest\n",
    "import time\n",
    "\n",
    "# Get the absolute path of the parent directory (one level up)\n",
    "sys.path.append(os.path.abspath(\"..\"))\n",
    "\n",
    "from datastructures.Queue import Queue"
   ]
  },
  {
   "attachments": {
    "image.png": {
     "image/png": "[encoded data removed]"
    }
   },
   "cell_type": "markdown",
   "metadata": {},
   "source": [
    "### Enqueue\n",
    "\n",
    "![image.png](attachment:image.png)"
   ]
  },
  {
   "cell_type": "code",
   "execution_count": 2,
   "metadata": {},
   "outputs": [
    {
     "name": "stderr",
     "output_type": "stream",
     "text": [
      "....\n",
      "----------------------------------------------------------------------\n",
      "Ran 4 tests in 0.003s\n",
      "\n",
      "OK\n"
     ]
    },
    {
     "data": {
      "text/plain": [
       "<unittest.runner.TextTestResult run=4 errors=0 failures=0>"
      ]
     },
     "execution_count": 2,
     "metadata": {},
     "output_type": "execute_result"
    }
   ],
   "source": [
    "class TestQueueEnqueue(unittest.TestCase):\n",
    "\n",
    "    def extract_values(self, queue: Queue) -> list:\n",
    "        \"\"\"Helper to extract all values from the queue without modifying it\"\"\"\n",
    "        values = []\n",
    "        current = queue._Queue__first  # Accessing private member for testing only\n",
    "        while current:\n",
    "            values.append(current.value)\n",
    "            current = current.next\n",
    "        return values\n",
    "\n",
    "    def test_enqueue_single_element(self):\n",
    "        \"\"\"Test enqueuing a single element\"\"\"\n",
    "        q = Queue()\n",
    "        q.enqueue(10)\n",
    "        self.assertEqual(q.length(), 1)\n",
    "        self.assertEqual(q.front(), 10)\n",
    "        self.assertEqual(self.extract_values(q), [10])\n",
    "\n",
    "    def test_enqueue_multiple_elements(self):\n",
    "        \"\"\"Test enqueuing multiple elements\"\"\"\n",
    "        q = Queue()\n",
    "        q.enqueue(1)\n",
    "        q.enqueue(2)\n",
    "        q.enqueue(3)\n",
    "        self.assertEqual(q.length(), 3)\n",
    "        self.assertEqual(q.front(), 1)  # First inserted item\n",
    "        self.assertEqual(self.extract_values(q), [1, 2, 3])\n",
    "\n",
    "    def test_enqueue_negative_and_zero(self):\n",
    "        \"\"\"Test enqueuing 0 and negative values\"\"\"\n",
    "        q = Queue()\n",
    "        q.enqueue(0)\n",
    "        q.enqueue(-1)\n",
    "        self.assertEqual(q.length(), 2)\n",
    "        self.assertEqual(self.extract_values(q), [0, -1])\n",
    "\n",
    "    def test_enqueue_mixed_data_types(self):\n",
    "        \"\"\"Test enqueuing different data types\"\"\"\n",
    "        q = Queue()\n",
    "        q.enqueue(\"hello\")\n",
    "        q.enqueue(3.14)\n",
    "        q.enqueue(True)\n",
    "        self.assertEqual(q.length(), 3)\n",
    "        self.assertEqual(self.extract_values(q), [\"hello\", 3.14, True])\n",
    "\n",
    "# Run tests inside Jupyter Notebook\n",
    "unittest.TextTestRunner().run(unittest.defaultTestLoader.loadTestsFromTestCase(TestQueueEnqueue))"
   ]
  },
  {
   "attachments": {
    "image.png": {
     "image/png": "[encoded data removed]"
    }
   },
   "cell_type": "markdown",
   "metadata": {},
   "source": [
    "### Dequeue\n",
    "\n",
    "![image.png](attachment:image.png)"
   ]
  },
  {
   "cell_type": "code",
   "execution_count": 3,
   "metadata": {},
   "outputs": [
    {
     "name": "stderr",
     "output_type": "stream",
     "text": [
      "....\n",
      "----------------------------------------------------------------------\n",
      "Ran 4 tests in 0.004s\n",
      "\n",
      "OK\n"
     ]
    },
    {
     "data": {
      "text/plain": [
       "<unittest.runner.TextTestResult run=4 errors=0 failures=0>"
      ]
     },
     "execution_count": 3,
     "metadata": {},
     "output_type": "execute_result"
    }
   ],
   "source": [
    "class TestQueueDequeue(unittest.TestCase):\n",
    "\n",
    "    def extract_values(self, queue: Queue) -> list:\n",
    "        \"\"\"Helper to extract values from the queue (without dequeuing)\"\"\"\n",
    "        values = []\n",
    "        current = queue._Queue__first  # Accessing private for test only\n",
    "        while current:\n",
    "            values.append(current.value)\n",
    "            current = current.next\n",
    "        return values\n",
    "\n",
    "    def test_dequeue_from_empty_queue(self):\n",
    "        \"\"\"Dequeue from an empty queue should return None and keep length 0\"\"\"\n",
    "        q = Queue()\n",
    "        self.assertIsNone(q.dequeue())\n",
    "        self.assertEqual(q.length(), 0)\n",
    "        self.assertEqual(self.extract_values(q), [])\n",
    "\n",
    "    def test_dequeue_single_element(self):\n",
    "        \"\"\"Dequeue the only element\"\"\"\n",
    "        q = Queue()\n",
    "        q.enqueue(42)\n",
    "        removed = q.dequeue()\n",
    "        self.assertEqual(removed.value, 42)\n",
    "        self.assertEqual(q.length(), 0)\n",
    "        self.assertTrue(q.isEmpty())\n",
    "        self.assertEqual(self.extract_values(q), [])\n",
    "\n",
    "    def test_dequeue_multiple_elements(self):\n",
    "        \"\"\"Dequeue elements in correct FIFO order\"\"\"\n",
    "        q = Queue()\n",
    "        q.enqueue(\"a\")\n",
    "        q.enqueue(\"b\")\n",
    "        q.enqueue(\"c\")\n",
    "\n",
    "        removed1 = q.dequeue()\n",
    "        self.assertEqual(removed1.value, \"a\")\n",
    "        self.assertEqual(q.length(), 2)\n",
    "        self.assertEqual(self.extract_values(q), [\"b\", \"c\"])\n",
    "\n",
    "        removed2 = q.dequeue()\n",
    "        self.assertEqual(removed2.value, \"b\")\n",
    "        self.assertEqual(q.length(), 1)\n",
    "        self.assertEqual(self.extract_values(q), [\"c\"])\n",
    "\n",
    "        removed3 = q.dequeue()\n",
    "        self.assertEqual(removed3.value, \"c\")\n",
    "        self.assertEqual(q.length(), 0)\n",
    "        self.assertTrue(q.isEmpty())\n",
    "        self.assertEqual(self.extract_values(q), [])\n",
    "\n",
    "    def test_dequeue_after_clear(self):\n",
    "        \"\"\"Dequeue should return None after clear() is called\"\"\"\n",
    "        q = Queue()\n",
    "        q.enqueue(1)\n",
    "        q.enqueue(2)\n",
    "        q.clear()\n",
    "        self.assertIsNone(q.dequeue())\n",
    "        self.assertTrue(q.isEmpty())\n",
    "\n",
    "# Run tests inside Jupyter Notebook\n",
    "unittest.TextTestRunner().run(unittest.defaultTestLoader.loadTestsFromTestCase(TestQueueDequeue))"
   ]
  },
  {
   "attachments": {
    "image.png": {
     "image/png": "[encoded data removed]"
    }
   },
   "cell_type": "markdown",
   "metadata": {},
   "source": [
    "### Contains\n",
    "\n",
    "![image.png](attachment:image.png)"
   ]
  },
  {
   "cell_type": "code",
   "execution_count": 4,
   "metadata": {},
   "outputs": [
    {
     "name": "stderr",
     "output_type": "stream",
     "text": [
      ".....\n",
      "----------------------------------------------------------------------\n",
      "Ran 5 tests in 0.003s\n",
      "\n",
      "OK\n"
     ]
    },
    {
     "data": {
      "text/plain": [
       "<unittest.runner.TextTestResult run=5 errors=0 failures=0>"
      ]
     },
     "execution_count": 4,
     "metadata": {},
     "output_type": "execute_result"
    }
   ],
   "source": [
    "class TestQueueContains(unittest.TestCase):\n",
    "\n",
    "    def extract_values(self, queue: Queue) -> list:\n",
    "        \"\"\"Helper to extract values from the queue (without dequeuing)\"\"\"\n",
    "        values = []\n",
    "        current = queue._Queue__first  # Accessing private for testing\n",
    "        while current:\n",
    "            values.append(current.value)\n",
    "            current = current.next\n",
    "        return values\n",
    "\n",
    "    def test_contains_in_empty_queue(self):\n",
    "        \"\"\"Check contains() on an empty queue\"\"\"\n",
    "        q = Queue()\n",
    "        self.assertFalse(q.contains(10))\n",
    "\n",
    "    def test_contains_existing_element(self):\n",
    "        \"\"\"Check contains() for present element\"\"\"\n",
    "        q = Queue()\n",
    "        q.enqueue(\"apple\")\n",
    "        q.enqueue(\"banana\")\n",
    "        q.enqueue(\"cherry\")\n",
    "        self.assertTrue(q.contains(\"banana\"))\n",
    "        self.assertFalse(q.contains(\"orange\"))\n",
    "\n",
    "    def test_contains_first_and_last(self):\n",
    "        \"\"\"Check contains() for first and last inserted elements\"\"\"\n",
    "        q = Queue()\n",
    "        q.enqueue(\"first\")\n",
    "        q.enqueue(\"middle\")\n",
    "        q.enqueue(\"last\")\n",
    "        self.assertTrue(q.contains(\"first\"))\n",
    "        self.assertTrue(q.contains(\"last\"))\n",
    "\n",
    "    def test_contains_duplicate_value(self):\n",
    "        \"\"\"Check contains() when duplicate values exist\"\"\"\n",
    "        q = Queue()\n",
    "        q.enqueue(5)\n",
    "        q.enqueue(10)\n",
    "        q.enqueue(5)\n",
    "        self.assertTrue(q.contains(5))\n",
    "\n",
    "    def test_contains_with_mixed_data_types(self):\n",
    "        \"\"\"Check contains() with various types\"\"\"\n",
    "        q = Queue()\n",
    "        q.enqueue(0)\n",
    "        q.enqueue(None)\n",
    "        q.enqueue(True)\n",
    "        q.enqueue(\"test\")\n",
    "        self.assertTrue(q.contains(0))\n",
    "        self.assertTrue(q.contains(None))\n",
    "        self.assertTrue(q.contains(True))\n",
    "        self.assertFalse(q.contains(\"absent\"))\n",
    "\n",
    "# Run tests inside Jupyter Notebook\n",
    "unittest.TextTestRunner().run(unittest.defaultTestLoader.loadTestsFromTestCase(TestQueueContains))"
   ]
  },
  {
   "cell_type": "markdown",
   "metadata": {},
   "source": [
    "### Performance Test for Handling 100 Million Nodes in Stack"
   ]
  },
  {
   "cell_type": "code",
   "execution_count": 5,
   "metadata": {},
   "outputs": [
    {
     "name": "stdout",
     "output_type": "stream",
     "text": [
      "\n",
      "[Queue Performance Test] Enqueueing 100000000 elements...\n",
      "Enqueue time: 63.78 seconds\n",
      "[Queue Performance Test] Dequeueing 100000000 elements...\n"
     ]
    },
    {
     "name": "stderr",
     "output_type": "stream",
     "text": [
      ".\n",
      "----------------------------------------------------------------------\n",
      "Ran 1 test in 92.331s\n",
      "\n",
      "OK\n"
     ]
    },
    {
     "name": "stdout",
     "output_type": "stream",
     "text": [
      "Dequeue time: 28.55 seconds\n",
      "[Queue Performance Test Completed ✅]\n"
     ]
    },
    {
     "data": {
      "text/plain": [
       "<unittest.runner.TextTestResult run=1 errors=0 failures=0>"
      ]
     },
     "execution_count": 5,
     "metadata": {},
     "output_type": "execute_result"
    }
   ],
   "source": [
    "class TestQueuePerformance(unittest.TestCase):\n",
    "\n",
    "    def test_large_queue_performance(self):\n",
    "        \"\"\"Performance Test: Queue with 100 million elements\"\"\"\n",
    "        queue = Queue()\n",
    "        num_elements = 100_000_000  # 100 million\n",
    "\n",
    "        print(f\"\\n[Queue Performance Test] Enqueueing {num_elements} elements...\")\n",
    "\n",
    "        start_time = time.time()\n",
    "        for i in range(num_elements):\n",
    "            queue.enqueue(i)\n",
    "        enqueue_time = time.time() - start_time\n",
    "\n",
    "        self.assertEqual(queue.length(), num_elements)\n",
    "        self.assertEqual(queue.front(), 0)\n",
    "\n",
    "        print(f\"Enqueue time: {enqueue_time:.2f} seconds\")\n",
    "\n",
    "        print(f\"[Queue Performance Test] Dequeueing {num_elements} elements...\")\n",
    "\n",
    "        start_time = time.time()\n",
    "        for _ in range(num_elements):\n",
    "            queue.dequeue()\n",
    "        dequeue_time = time.time() - start_time\n",
    "\n",
    "        self.assertTrue(queue.isEmpty())\n",
    "        self.assertEqual(queue.length(), 0)\n",
    "        \n",
    "        print(f\"Dequeue time: {dequeue_time:.2f} seconds\")\n",
    "        print(f\"[Queue Performance Test Completed ✅]\")\n",
    "\n",
    "unittest.TextTestRunner().run(unittest.defaultTestLoader.loadTestsFromTestCase(TestQueuePerformance))"
   ]
  }
 ],
 "metadata": {
  "kernelspec": {
   "display_name": "base",
   "language": "python",
   "name": "python3"
  },
  "language_info": {
   "codemirror_mode": {
    "name": "ipython",
    "version": 3
   },
   "file_extension": ".py",
   "mimetype": "text/x-python",
   "name": "python",
   "nbconvert_exporter": "python",
   "pygments_lexer": "ipython3",
   "version": "3.12.2"
  }
 },
 "nbformat": 4,
 "nbformat_minor": 2
}
